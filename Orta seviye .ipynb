{
 "cells": [
  {
   "cell_type": "code",
   "execution_count": 30,
   "id": "fa84d899",
   "metadata": {},
   "outputs": [
    {
     "name": "stdout",
     "output_type": "stream",
     "text": [
      "Kac saat otoparkta kalacaginizi giriniz: 10\n",
      "Arac tipinizin ID degerini seciniz:\n",
      "1:Taksi\n",
      "2:Minibus\n",
      "3:Ticari\n",
      "2\n",
      "Odemeniz gereken fiyat 187.5 TL'dir.\n"
     ]
    }
   ],
   "source": [
    "# otopark ucreti hesaplama\n",
    "saat = int(input('Kac saat otoparkta kalacaginizi giriniz: '))\n",
    "arac_tipi = int(input('Arac tipinizin ID degerini seciniz:\\n1:Taksi\\n2:Minibus\\n3:Ticari\\n'))\n",
    "\n",
    "if arac_tipi == 1:\n",
    "    if saat == 1:\n",
    "        fiyat = 10\n",
    "    else:\n",
    "        fiyat = saat * (10*1.20) # fiyat = fiyat + fiyat * 0.2\n",
    "    \n",
    "elif arac_tipi == 2:\n",
    "    if saat == 1:\n",
    "        fiyat = 15\n",
    "    else:\n",
    "        fiyat = saat * (15*1.25) # fiyat = fiyat + fiyat * 0.25\n",
    "elif arac_tipi == 3:\n",
    "    if saat == 1:\n",
    "        fiyat = 20\n",
    "    else:\n",
    "        fiyat = saat * (20*1.30) # fiyat = fiyat + fiyat * 0.3\n",
    "    \n",
    "else:\n",
    "    print('HATALI ARAC TIPI SECIMI!! Program Sonlandi')\n",
    "    \n",
    "print(\"Odemeniz gereken fiyat {} TL'dir.\".format(fiyat))"
   ]
  },
  {
   "cell_type": "code",
   "execution_count": 38,
   "id": "29e729f0",
   "metadata": {},
   "outputs": [
    {
     "name": "stdout",
     "output_type": "stream",
     "text": [
      "Anlasmali musterimiz iseniz [1] degilseniz [2]'ye basin1\n",
      "En(cm): 45\n",
      "Boy(cm): 45\n",
      "Yukseklik(cm): 75\n",
      "Mesafe(km): 320\n",
      "agirlik(kg): 30\n",
      "kargo ucreti = 126.0 TL\n"
     ]
    }
   ],
   "source": [
    "# Kargo ucreti hesaplama (yuksek fiyat secilir-musteri anlasmali ise yari fiyat uygulanir)\n",
    "'''\n",
    "Agirlik hesaplama = (agirlik x mesafe x 5 x 10^-3) + 10\n",
    "Ebat hesaplama = en x boy x yukseklik x mesafe x 5 x 10^-6 + 9\n",
    "'''\n",
    "musteri_tipi = int(input(\"Anlasmali musterimiz iseniz [1] degilseniz [2]'ye basin\"))\n",
    "en = float(input('En(cm): '))\n",
    "boy = float(input('Boy(cm): '))\n",
    "yukseklik = float(input('Yukseklik(cm): '))\n",
    "mesafe = float(input('Mesafe(km): '))\n",
    "agirlik = float(input('agirlik(kg): '))\n",
    "\n",
    "agirlik_fiyat =(agirlik * mesafe * 5 * 10**-3) + 10\n",
    "ebat_fiyat = en * boy * yukseklik * mesafe * 5 * 10**-6 + 9\n",
    "\n",
    "if agirlik_fiyat > ebat_fiyat:\n",
    "    tutar = agirlik_fiyat\n",
    "else:\n",
    "    tutar = ebat_fiyat \n",
    "          \n",
    "if musteri_tipi == 1:\n",
    "    tutar = tutar/2\n",
    "    print('kargo ucreti = {} TL'.format(tutar))\n",
    "else:\n",
    "    print('kargo ucreti = {} TL'.format(tutar))"
   ]
  },
  {
   "cell_type": "code",
   "execution_count": 41,
   "id": "9cf3f18d",
   "metadata": {},
   "outputs": [
    {
     "name": "stdout",
     "output_type": "stream",
     "text": [
      "tarih 1 giriniz (dd.mm.yy): 20.02.2001\n",
      "tarih 2 giriniz (dd.mm.yy): 13.07.2023\n",
      "Fark: -8178 days, 0:00:00\n"
     ]
    }
   ],
   "source": [
    "# iki tarih arasindaki farki hesaplama\n",
    "import datetime\n",
    "tarih1 = input(\"tarih 1 giriniz (dd.mm.yy): \") # HH:MM:SS saat dakika saniye eklenebilir\n",
    "tarih2 = input(\"tarih 2 giriniz (dd.mm.yy): \")\n",
    "\n",
    "trh1= datetime.datetime.strptime(tarih1, '%d.%m.%Y')\n",
    "trh2= datetime.datetime.strptime(tarih2, '%d.%m.%Y')\n",
    "\n",
    "fark = trh1 - trh2\n",
    "\n",
    "print(\"Fark: {}\".format(fark)) # saat eklemedigimiz icin 0:00:00 verecek saati"
   ]
  },
  {
   "cell_type": "code",
   "execution_count": 46,
   "id": "362eb94a",
   "metadata": {},
   "outputs": [
    {
     "data": {
      "text/plain": [
       "5.0"
      ]
     },
     "execution_count": 46,
     "metadata": {},
     "output_type": "execute_result"
    }
   ],
   "source": [
    "# pisagor degerini hesaplama (√¯a^2+b^2)\n",
    "import math\n",
    "\n",
    "def pisagor_hesapla(a,b):\n",
    "    sonuc = math.sqrt((a**2)+(b**2))\n",
    "    return sonuc\n",
    "\n",
    "pisagor_hesapla(3,4)"
   ]
  },
  {
   "cell_type": "code",
   "execution_count": 48,
   "id": "b9865d90",
   "metadata": {},
   "outputs": [
    {
     "name": "stdout",
     "output_type": "stream",
     "text": [
      "0\n",
      "1\n",
      "1\n",
      "2\n",
      "3\n",
      "5\n",
      "8\n",
      "13\n",
      "21\n",
      "34\n"
     ]
    }
   ],
   "source": [
    "# fibonacci sayilari\n",
    "def fibonacci(n):\n",
    "    a, b = 0, 1\n",
    "    for i in range(n):\n",
    "        a, b = b, a + b\n",
    "    return a\n",
    "\n",
    "# İlk 10 Fibonacci sayısını yazdıralım\n",
    "for i in range(10):\n",
    "    print(fibonacci(i))"
   ]
  },
  {
   "cell_type": "code",
   "execution_count": 49,
   "id": "5935428f",
   "metadata": {},
   "outputs": [
    {
     "name": "stdout",
     "output_type": "stream",
     "text": [
      "0\n",
      "1\n",
      "1\n",
      "2\n",
      "3\n",
      "5\n",
      "8\n",
      "13\n",
      "21\n",
      "34\n"
     ]
    }
   ],
   "source": [
    "# recursive fibonacci\n",
    "def fibonacci(n):\n",
    "    if n <= 1:\n",
    "        return n\n",
    "    else:\n",
    "        return fibonacci(n-1) + fibonacci(n-2)\n",
    "\n",
    "# İlk 10 Fibonacci sayısını yazdıralım\n",
    "for i in range(10):\n",
    "    print(fibonacci(i))"
   ]
  },
  {
   "cell_type": "code",
   "execution_count": 10,
   "id": "a461b4f1",
   "metadata": {},
   "outputs": [
    {
     "name": "stdout",
     "output_type": "stream",
     "text": [
      "Kontrol sayisini giriniz951\n",
      "951 sayisi bir smith sayi degildir\n"
     ]
    }
   ],
   "source": [
    "# Smith sayi bulma (asal olmayan sayinin rakamlar toplami ile asal carpanlarinin rakamlari toplami esit olcak)\n",
    "# sayiyi once str gibi alcaz. boylece sayinin rakamlarina erisebilecegiz. Daha sonr ise int yapip toplayabilir\n",
    "\n",
    "def rakamlari_topla(a):\n",
    "    a = str(a) # sayiyi str yaptik\n",
    "    rakamlar_toplami = 0\n",
    "    for i in range(0, len(a)): #sayinin uzunluguna kadar gir\n",
    "        rakamlar_toplami += int(a[i]) # rakamlar_toplami + int([a])\n",
    "    return rakamlar_toplami \n",
    "\n",
    "\n",
    "\n",
    "def asalCarpanlarToplami(sayi):\n",
    "    toplam = 0\n",
    "    bolen = 2 # en kucuk asal bolen\n",
    "    while sayi != 1: # sayi 1 olmadigi surece devam et(asal degil)\n",
    "        if sayi % bolen == 0:\n",
    "            toplam += rakamlari_topla(bolen) # rakamlari topluyoruz \n",
    "            sayi = sayi // bolen\n",
    "        else:\n",
    "            bolen += 1\n",
    "            if bolen > sayi**0.5: # asal çarpanı yoksa kendisi asal\n",
    "                toplam += rakamlari_topla(sayi)\n",
    "                break\n",
    "    return toplam\n",
    "\n",
    "sayi = int(input('Kontrol sayisini giriniz'))\n",
    "\n",
    "if asalCarpanlarToplami(sayi) == rakamlari_topla(sayi):\n",
    "    print('{} sayisi bir smith sayidir'.format(sayi))\n",
    "else:\n",
    "    print('{} sayisi bir smith sayi degildir'.format(sayi))"
   ]
  },
  {
   "cell_type": "code",
   "execution_count": 1,
   "id": "3909c97f",
   "metadata": {},
   "outputs": [
    {
     "name": "stdout",
     "output_type": "stream",
     "text": [
      "28 bir mükemmel sayıdır.\n"
     ]
    }
   ],
   "source": [
    "# mukemmel sayi bulma (kendinden farkli pozitif carpanlarinin toplami kendi eden sayilara denir)\n",
    "def mukemmelSayi(sayi):\n",
    "    toplam = 0\n",
    "    for i in range(1, sayi):\n",
    "        if sayi % i == 0:\n",
    "            toplam += i\n",
    "    return toplam == sayi\n",
    "\n",
    "# Örnek kullanım\n",
    "sayi = 28\n",
    "if mukemmelSayi(sayi):\n",
    "    print(sayi, \"bir mükemmel sayıdır.\")\n",
    "else:\n",
    "    print(sayi, \"bir mükemmel sayı değildir.\")"
   ]
  },
  {
   "cell_type": "code",
   "execution_count": 7,
   "id": "ef6d372c",
   "metadata": {},
   "outputs": [
    {
     "name": "stdout",
     "output_type": "stream",
     "text": [
      "Palindrom sayi giriniz: 121\n",
      "121 sayisi palindrom sayidir.\n"
     ]
    }
   ],
   "source": [
    "# palindromik sayi bulma (tersten yazilinca da kendini veren sayilar)\n",
    "sayi = input('Palindrom sayi giriniz: ') # default hali str\n",
    "ters_sayi = sayi[::-1]\n",
    "\n",
    "if sayi == ters_sayi:\n",
    "    print('{} sayisi palindrom sayidir.'.format(sayi))\n",
    "else:\n",
    "    print('{} sayisi palindrom sayi degildir.'.format(sayi))"
   ]
  },
  {
   "cell_type": "code",
   "execution_count": 17,
   "id": "df0f2fe7",
   "metadata": {},
   "outputs": [
    {
     "name": "stdout",
     "output_type": "stream",
     "text": [
      "Boy(cm): 183\n",
      "Yas: 22\n",
      "Cinsiyetiniz Erkekse [e] kadinsa [k] giriniz : e\n",
      "ideal kilonuz: 76.68\n"
     ]
    }
   ],
   "source": [
    "# ideal kilo hesaplama\n",
    "\n",
    "'''\n",
    "ideal kilo = (boy - 100 + (yas/10)) * k\n",
    "k erkek icin = 0.9\n",
    "k kadin icin = 0.8\n",
    "'''\n",
    "boy = int(input('Boy(cm): '))\n",
    "yas = int(input('Yas: '))\n",
    "cinsiyet = input('Cinsiyetiniz Erkekse [e] kadinsa [k] giriniz : ')\n",
    "cinsiyet = cinsiyet.lower() # ifademizi hata olusmamasi icin kucuk harfe cevircez\n",
    "\n",
    "hesapla = (boy-100 + (yas/10))\n",
    "\n",
    "if cinsiyet == 'k':\n",
    "    hesapla = hesapla * 0.8\n",
    "    print('ideal kilonuz: {}'.format(hesapla))\n",
    "    \n",
    "elif cinsiyet == 'e':\n",
    "    hesapla = hesapla * 0.9\n",
    "    print('ideal kilonuz: {}'.format(hesapla))\n",
    "else:\n",
    "    print('Yanlis giris yaptiniz')"
   ]
  },
  {
   "cell_type": "code",
   "execution_count": 21,
   "id": "8b2a68c9",
   "metadata": {},
   "outputs": [
    {
     "name": "stdout",
     "output_type": "stream",
     "text": [
      "EBOB: 4\n",
      "EKOK: 8\n"
     ]
    }
   ],
   "source": [
    "# ebob ekok bulma\n",
    "def EBOB(sayi1, sayi2):\n",
    "    i = 1\n",
    "    ebob = 1\n",
    "    while(i <= sayi1 and i <= sayi2):\n",
    "        if(sayi1 % i == 0 and sayi2 % i == 0):\n",
    "            ebob = i\n",
    "        i += 1\n",
    "    return ebob\n",
    "\n",
    "def EKOK(sayi1, sayi2):\n",
    "    carpim = sayi1 * sayi2\n",
    "    ebob = EBOB(sayi1, sayi2)\n",
    "    ekok = carpim // ebob\n",
    "    return ekok\n",
    "\n",
    "print('EBOB: {}'.format(EBOB(8,4)))\n",
    "print('EKOK: {}'.format(EKOK(8,4)))"
   ]
  },
  {
   "cell_type": "code",
   "execution_count": 30,
   "id": "e31c6b37",
   "metadata": {},
   "outputs": [
    {
     "name": "stdout",
     "output_type": "stream",
     "text": [
      "kontrol edilecek TC numarasi giriniz: 10000000002\n",
      "False\n"
     ]
    }
   ],
   "source": [
    "# tc kimlik no dogrulama\n",
    "def tcDogrulukKontrol(tc):\n",
    "    sonuc = True \n",
    "    if 11 != len(tc) or tc[0:1] == '0' or tc.isnumeric == False: # eger 11 hane degisle veya ilk hane 0 ise veya numeric degisle false\n",
    "        return False\n",
    "    else:\n",
    "        s1 = int(tc[0])\n",
    "        s2 = int(tc[1])\n",
    "        s3 = int(tc[2])\n",
    "        s4 = int(tc[3])\n",
    "        s5 = int(tc[4])\n",
    "        s6 = int(tc[5])\n",
    "        s7 = int(tc[6])\n",
    "        s8 = int(tc[7])\n",
    "        s9 = int(tc[8])\n",
    "        s10 = int(tc[9])\n",
    "        s11 = int(tc[10])\n",
    "        \n",
    "        toplamTekler = s1 + s3 + s5 + s7 + s9\n",
    "        toplamCiftler = s2 + s4 + s6 + s8\n",
    "        \n",
    "        if(7 * toplamTekler - toplamCiftler) % 10 != s10:\n",
    "            return False\n",
    "        \n",
    "        toplam10 = s1 + s2 + s3 + s4 + s5 + s6 + s7 + s8 + s9 + s10\n",
    "        \n",
    "        if(toplam10 % 10) != s11:\n",
    "            return False\n",
    "    return sonuc\n",
    "\n",
    "# YUKARIDA YER ALAN ALGORITMALAR TC KIMLIK NO ALGORITMASIDIR\n",
    "# 1 3 5 9 NOLU HANELERIN TOPLAMININ 7 KATINAN 2 4 6 8 NOLU HANELER CIKARTILIP 10 ILE MODU 10.HANEYI VERIR\n",
    "# 1-10 ARASI HANELERIN TOPLAMININ 10 ILE MODU 11. HANEYI VERIR\n",
    "\n",
    "tc = input('kontrol edilecek TC numarasi giriniz: ')\n",
    "sonuc = tcDogrulukKontrol(tc)\n",
    "print(sonuc)"
   ]
  },
  {
   "cell_type": "code",
   "execution_count": 35,
   "id": "32177ae6",
   "metadata": {},
   "outputs": [
    {
     "name": "stdout",
     "output_type": "stream",
     "text": [
      "permutasyon: 360.0\n",
      "kombinasyon: 15.0\n"
     ]
    }
   ],
   "source": [
    "# permutasyon ve kombinasyon hesaplama\n",
    "'''\n",
    "permutasyon = P(n,r) = n! / (n-r)!\n",
    "kombinasyon = C(n,r) = n! / (r! * (n-r)!)\n",
    "'''\n",
    "\n",
    "def faktoriyel(sayi):\n",
    "    sonuc = 1 \n",
    "    for i in range(1,sayi+1):       \n",
    "        sonuc = sonuc * i\n",
    "    return sonuc\n",
    "\n",
    "def permutasyon(n, r):\n",
    "    return faktoriyel(n)/faktoriyel(n-r)\n",
    "\n",
    "def kombinasyon(n, r):\n",
    "    return faktoriyel(n)/(faktoriyel(r)*faktoriyel(n-r))\n",
    "\n",
    "\n",
    "print('permutasyon: {}'.format(permutasyon(6,4)))\n",
    "print('kombinasyon: {}'.format(kombinasyon(6,4))) "
   ]
  },
  {
   "cell_type": "code",
   "execution_count": 70,
   "id": "2d98c24b",
   "metadata": {
    "scrolled": true
   },
   "outputs": [
    {
     "name": "stdout",
     "output_type": "stream",
     "text": [
      "Guclu sifreniz = v1>td2aWO|&<+v1\n"
     ]
    }
   ],
   "source": [
    "# 15 karakterli guclu sifre olusturma\n",
    "import random\n",
    "\n",
    "def kelimeOlustur(harfSayisi):\n",
    "    harfler = 'abcdefghijklmnoprstuvyzxwqABCDEFGHIJKLMNOPRSTUVYZXWQ123456789!@#$%^&*()_+[]{};:|\\<,.>/?'\n",
    "    kelime = ''\n",
    "    for i in range(1, harfSayisi+1):\n",
    "        secilenHarf = random.sample(harfler, 1) # random karakter secici\n",
    "        kelime += secilenHarf[0]\n",
    "    return kelime\n",
    "\n",
    "print('Guclu sifreniz = {}'.format(kelimeOlustur(15)))"
   ]
  }
 ],
 "metadata": {
  "kernelspec": {
   "display_name": "Python 3 (ipykernel)",
   "language": "python",
   "name": "python3"
  },
  "language_info": {
   "codemirror_mode": {
    "name": "ipython",
    "version": 3
   },
   "file_extension": ".py",
   "mimetype": "text/x-python",
   "name": "python",
   "nbconvert_exporter": "python",
   "pygments_lexer": "ipython3",
   "version": "3.9.13"
  }
 },
 "nbformat": 4,
 "nbformat_minor": 5
}
