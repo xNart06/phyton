{
 "cells": [
  {
   "cell_type": "code",
   "execution_count": 156,
   "id": "3bf14e0d",
   "metadata": {},
   "outputs": [
    {
     "name": "stdout",
     "output_type": "stream",
     "text": [
      "Yazi Girin: selam\n",
      "selam\n"
     ]
    }
   ],
   "source": [
    "# Kullanicidan alinan metni ekranda goster\n",
    "x = input('Yazi Girin: ')\n",
    "print(x)"
   ]
  },
  {
   "cell_type": "code",
   "execution_count": 157,
   "id": "5243b2bb",
   "metadata": {},
   "outputs": [
    {
     "name": "stdout",
     "output_type": "stream",
     "text": [
      "Sayi Giriniz: 4\n",
      "Sayi Giriniz2 : 5\n",
      "9\n"
     ]
    }
   ],
   "source": [
    "# girilen 2 sayiyi topla\n",
    "sayi1 = int(input('Sayi Giriniz: '))\n",
    "sayi2 = int(input('Sayi Giriniz2 : '))\n",
    "topla = sayi1 + sayi2\n",
    "print(topla)"
   ]
  },
  {
   "cell_type": "code",
   "execution_count": 158,
   "id": "a46898b4",
   "metadata": {},
   "outputs": [
    {
     "name": "stdout",
     "output_type": "stream",
     "text": [
      "Sayi giriniz: 2\n",
      "2 Cift sayidir\n"
     ]
    }
   ],
   "source": [
    "# girilen sayinin tek veya cift oldugunu bilme\n",
    "sayi = int(input('Sayi giriniz: '))\n",
    "if sayi%2 == 0:\n",
    "    print('{} Cift sayidir'.format(sayi))\n",
    "else:\n",
    "    print('{} Tek sayidir'.format(sayi))"
   ]
  },
  {
   "cell_type": "code",
   "execution_count": 159,
   "id": "83188e88",
   "metadata": {},
   "outputs": [
    {
     "name": "stdout",
     "output_type": "stream",
     "text": [
      "sayi girin: 2\n",
      "sayi girin: 4\n",
      "Islem seciniz \"+ - * /\"+\n",
      "6.0\n"
     ]
    }
   ],
   "source": [
    "# 2 sayi ile islem yapan basit hesap makinesi\n",
    "sayi1 = float(input('sayi girin: '))\n",
    "sayi2 = float(input('sayi girin: '))\n",
    "\n",
    "islem = input('Islem seciniz \"+ - * /\"')\n",
    "\n",
    "if islem == '+':\n",
    "    sonuc = sayi1+sayi2\n",
    "elif islem == '-':\n",
    "    sonuc = sayi1+sayi2\n",
    "elif islem == '/':\n",
    "    sonuc = sayi1/sayi2\n",
    "elif islem == '*':\n",
    "    sonuc = sayi1*sayi2\n",
    "else:\n",
    "    print('HATA!!')\n",
    "    \n",
    "print(sonuc)"
   ]
  },
  {
   "cell_type": "code",
   "execution_count": 163,
   "id": "3f69fdcd",
   "metadata": {},
   "outputs": [
    {
     "name": "stdout",
     "output_type": "stream",
     "text": [
      "sayi girin: 4\n",
      "sayi girin: 5\n",
      "Islem seciniz \"+ - * /\"-\n",
      "-1.0\n",
      "Program Bitti\n"
     ]
    }
   ],
   "source": [
    "# hesap makinesi kullanici hatasi onleme\n",
    "try:\n",
    "    sayi1 = float(input('sayi girin: '))\n",
    "    sayi2 = float(input('sayi girin: '))\n",
    "\n",
    "    islem = input('Islem seciniz \"+ - * /\"')\n",
    "\n",
    "    if islem == '+':\n",
    "        sonuc = sayi1+sayi2\n",
    "    elif islem == '-':\n",
    "        sonuc = sayi1-sayi2\n",
    "    elif islem == '/':\n",
    "        sonuc = sayi1/sayi2\n",
    "    elif islem == '*':\n",
    "        sonuc = sayi1*sayi2\n",
    "    else:\n",
    "        print('HATA!!')\n",
    "    \n",
    "    print(sonuc)\n",
    "    \n",
    "except ValueError as e:\n",
    "    print(e)\n",
    "except ZeroDivisionError as e2:\n",
    "    print('SIFIRA BOLME HATASI'+e2)\n",
    "finally:\n",
    "    print('Program Bitti')"
   ]
  },
  {
   "cell_type": "code",
   "execution_count": 164,
   "id": "9eb79ec4",
   "metadata": {},
   "outputs": [
    {
     "name": "stdout",
     "output_type": "stream",
     "text": [
      "arttir + || azalt -+\n",
      "1\n",
      "arttir + || azalt -+\n",
      "2\n",
      "arttir + || azalt --\n",
      "1\n",
      "arttir + || azalt --\n",
      "0\n",
      "arttir + || azalt -2\n",
      "hatali islem\n",
      "0\n"
     ]
    }
   ],
   "source": [
    "#+\\- isaretlerine her basildiginda sayiyi arttirma ya da azaltma\n",
    "sayi = 0\n",
    "x = 0\n",
    "while x==0:\n",
    "    islem = input('arttir + || azalt -')\n",
    "\n",
    "    if islem == '+':\n",
    "        sayi = sayi+1\n",
    "    elif islem == '-':\n",
    "        sayi = sayi-1\n",
    "    else:\n",
    "        print('hatali islem')\n",
    "        x=1\n",
    "    \n",
    "    print(sayi)"
   ]
  },
  {
   "cell_type": "code",
   "execution_count": 165,
   "id": "b56bbfe2",
   "metadata": {},
   "outputs": [
    {
     "name": "stdout",
     "output_type": "stream",
     "text": [
      "10. sayi\n",
      "9. sayi\n",
      "8. sayi\n",
      "7. sayi\n",
      "6. sayi\n",
      "5. sayi\n",
      "4. sayi\n",
      "3. sayi\n",
      "2. sayi\n",
      "1. sayi\n",
      "0. sayi\n",
      "-1. sayi\n",
      "-2. sayi\n",
      "-3. sayi\n",
      "-4. sayi\n",
      "-5. sayi\n",
      "-6. sayi\n",
      "-7. sayi\n",
      "-8. sayi\n",
      "-9. sayi\n",
      "-10. sayi\n"
     ]
    }
   ],
   "source": [
    "# +10 -10 arasi sayilari ekrana yazdirma\n",
    "for i in range(10,-11,-1):\n",
    "    print(str(i)+'. sayi')"
   ]
  },
  {
   "cell_type": "code",
   "execution_count": 166,
   "id": "8a66e167",
   "metadata": {},
   "outputs": [
    {
     "name": "stdout",
     "output_type": "stream",
     "text": [
      "S,e,l,a,m,l,a,r,\n"
     ]
    }
   ],
   "source": [
    "# metindeki her harfin arasina virgul koyma\n",
    "metin = 'Selamlar'\n",
    "sonuc = '' #sonuc degiskeni tanimlama\n",
    "for harf in metin:\n",
    "    sonuc = sonuc + harf + ','\n",
    "    #print(sonuc) for icine yazarsak piramit olusturur\n",
    "print(sonuc)"
   ]
  },
  {
   "cell_type": "code",
   "execution_count": 167,
   "id": "43fbf0c3",
   "metadata": {},
   "outputs": [
    {
     "name": "stdout",
     "output_type": "stream",
     "text": [
      "[40, 79, 35, 18, 9]\n"
     ]
    }
   ],
   "source": [
    "# 1 ile 100 arasi rastgele 10 tam sayi uretip dizi icine ekleme\n",
    "import random\n",
    "dizi = list() #bos dizi olustu\n",
    "for i in range(5):\n",
    "    rastgele = random.randint(1,100)\n",
    "    dizi.append(rastgele)    # dizinin sonuna ekliyor her yeni degeri\n",
    "print(dizi)"
   ]
  },
  {
   "cell_type": "code",
   "execution_count": 168,
   "id": "288d604b",
   "metadata": {},
   "outputs": [
    {
     "name": "stdout",
     "output_type": "stream",
     "text": [
      "[-100, -95, -90, -85, -80, -75, -70, -65, -60, -55, -50, -45, -40, -35, -30, -25, -20, -15, -10, -5, 0, 5, 10, 15, 20, 25, 30, 35, 40, 45, 50, 55, 60, 65, 70, 75, 80, 85, 90, 95, 100]\n"
     ]
    }
   ],
   "source": [
    "# -100 ile +100 arasindaki 5 e bolunen sayilari yan yana gosterme\n",
    "bolunenler = list()\n",
    "for sayi in range(-100,101,1):\n",
    "    if sayi%5 == 0:\n",
    "        bolunenler.append(sayi)\n",
    "print(bolunenler) "
   ]
  },
  {
   "cell_type": "code",
   "execution_count": 169,
   "id": "e0e3c181",
   "metadata": {},
   "outputs": [
    {
     "name": "stdout",
     "output_type": "stream",
     "text": [
      "sayi girin2\n",
      "sayi girin3\n",
      "sayi girin4\n",
      "[2, 3, 4]\n"
     ]
    }
   ],
   "source": [
    "# 3 sayiyi karsilastirip siralama\n",
    "dizi = list()\n",
    "for i in range(3):\n",
    "    sayi = input('sayi girin')\n",
    "    sayi = int(sayi)\n",
    "    dizi.append(sayi) # dizi sonuna ekle sayilari\n",
    "dizi.sort() # dizideki sayilari sirala\n",
    "print(dizi)"
   ]
  },
  {
   "cell_type": "code",
   "execution_count": 170,
   "id": "f1d6ec71",
   "metadata": {},
   "outputs": [
    {
     "name": "stdout",
     "output_type": "stream",
     "text": [
      "Faktoriyelini bulmak istediğiniz sayıyı giriniz: 5\n",
      "5.4.3.2.1. = 120\n"
     ]
    }
   ],
   "source": [
    "# faktoriyel hesaplama ve acilimini yazdirma\n",
    "sayi = 1\n",
    "metin = ''\n",
    "sonuc = int(input('Faktoriyelini bulmak istediğiniz sayıyı giriniz: '))\n",
    "for i in range(sonuc, 0, -1):\n",
    "    sayi *= i # sayi = sayi *i\n",
    "    metin += str(i)+'.'\n",
    "\n",
    "print(str(metin)+' = '+str(sayi))"
   ]
  },
  {
   "cell_type": "code",
   "execution_count": 171,
   "id": "50337f5a",
   "metadata": {
    "scrolled": true
   },
   "outputs": [
    {
     "name": "stdout",
     "output_type": "stream",
     "text": [
      "cumle giriniz: selamlar benim adim furkan\n",
      "ilk kelime: selamlar \n",
      "son kelime : furkan\n"
     ]
    }
   ],
   "source": [
    "# metindeki ilk ve son kelimeyi bulma ** \n",
    "metin = input('cumle giriniz: ')\n",
    "liste = metin.split()\n",
    "ilk_kelime = liste[0]\n",
    "son_kelime = liste[len(liste)-1]\n",
    "'''\n",
    "son_kelime = metin.split()[-1]\n",
    "son_kelime = metin.rsplit(None, 1)[-1]\n",
    "son_kelime = metin.translate(str.maketrans(\"\", \"\", string.punctuation)).split()[-1]\n",
    "'''\n",
    "print('ilk kelime: {} \\nson kelime : {}'.format(ilk_kelime,son_kelime))"
   ]
  },
  {
   "cell_type": "code",
   "execution_count": 172,
   "id": "acf3f928",
   "metadata": {},
   "outputs": [
    {
     "name": "stdout",
     "output_type": "stream",
     "text": [
      "sayi1 girin: 23\n",
      "sayi2 girin: 12\n",
      "sayi3 girin: 43\n",
      "toplam= 78  ortalama= 26.0\n"
     ]
    }
   ],
   "source": [
    "# girilen sayilarin toplami ve ortalamasini bulma \n",
    "sayi1 = int(input('sayi1 girin: '))\n",
    "sayi2 = int(input('sayi2 girin: '))\n",
    "sayi3 = int(input('sayi3 girin: '))\n",
    "\n",
    "topla = sayi1+sayi2+sayi3\n",
    "\n",
    "ortalama = topla/3\n",
    "print('toplam= {}  ortalama= {}'.format(topla,ortalama))"
   ]
  },
  {
   "cell_type": "code",
   "execution_count": 173,
   "id": "f06a9ca6",
   "metadata": {},
   "outputs": [
    {
     "name": "stdout",
     "output_type": "stream",
     "text": [
      "MeRhaBA BENim ADim NaMe\n"
     ]
    }
   ],
   "source": [
    "# buyuk harfleri kucuk, kucuk harfleri buyuk harfe cevirme\n",
    "metin = 'mErHAba benIM adIM nAmE'\n",
    "yeni_metin = ''\n",
    "for i in metin:\n",
    "    if i.islower():\n",
    "        yeni_metin = yeni_metin + i.upper()  \n",
    "    else:\n",
    "        yeni_metin = yeni_metin + i.lower() \n",
    "print(yeni_metin)"
   ]
  },
  {
   "cell_type": "code",
   "execution_count": 174,
   "id": "07ed61fc",
   "metadata": {},
   "outputs": [
    {
     "name": "stdout",
     "output_type": "stream",
     "text": [
      "Maasinizi Giriniz: 30000\n",
      "Maasiniza gelcek zam miktarini (%) yuzdesini giriniz: 12\n",
      "aldiginiz zam = 3600.0tl\n",
      "zamli maasiniz: 33600.0tl\n"
     ]
    }
   ],
   "source": [
    "# personel maasindan yuzdesel zam hesaplama\n",
    "mevcut_maas = int(input('Maasinizi Giriniz: '))\n",
    "yuzdesel_zam =int(input('Maasiniza gelcek zam miktarini (%) yuzdesini giriniz: '))\n",
    "\n",
    "zam_miktari =(mevcut_maas*yuzdesel_zam)/100\n",
    "zamli_maas = mevcut_maas + zam_miktari\n",
    "\n",
    "print('aldiginiz zam = {}tl\\nzamli maasiniz: {}tl'.format(zam_miktari,zamli_maas))"
   ]
  },
  {
   "cell_type": "code",
   "execution_count": 175,
   "id": "e1ea5ebc",
   "metadata": {},
   "outputs": [
    {
     "name": "stdout",
     "output_type": "stream",
     "text": [
      "Sayi giriniz: 23\n",
      "23 Tek sayidir\n",
      "Sayi giriniz: 12\n",
      "12 Cift sayidir\n",
      "Sayi giriniz: q\n"
     ]
    }
   ],
   "source": [
    "# kullanicinin sonsuz girdigi degerin tek cift oldugunu bulma\n",
    "while True:\n",
    "    sayi = input('Sayi giriniz: ')\n",
    "    if sayi == 'q': # q basinca cikis yapacak\n",
    "        break\n",
    "    sayi = int(sayi) #yukarda deger str olarak da girilebiliyordu q basmak icin asagida bunu degistirmek icin int degeri atadik\n",
    "    if sayi%2 == 0:\n",
    "        print('{} Cift sayidir'.format(sayi))\n",
    "    else:\n",
    "        print('{} Tek sayidir'.format(sayi))"
   ]
  },
  {
   "cell_type": "code",
   "execution_count": 176,
   "id": "0669143b",
   "metadata": {},
   "outputs": [
    {
     "name": "stdout",
     "output_type": "stream",
     "text": [
      "Vize notunuzu giriniz: 34\n",
      "Final notunuzu giriniz: 85\n",
      "ortalamaniz: 64.6 dersi gectiniz!!\n"
     ]
    }
   ],
   "source": [
    "# mutlak sistemde dersi gecme durumu\n",
    "vize = int(input('Vize notunuzu giriniz: '))\n",
    "final = int(input('Final notunuzu giriniz: '))\n",
    "ortalama = vize*0.4 + final*0.6\n",
    "\n",
    "if ortalama >= 60:\n",
    "    print('ortalamaniz: {} dersi gectiniz!!'.format(ortalama))\n",
    "else:\n",
    "    print('ortalamaniz: {} kaldiniz'.format(ortalama))\n",
    "\n",
    "\n"
   ]
  },
  {
   "cell_type": "code",
   "execution_count": 177,
   "id": "ac9b1c14",
   "metadata": {},
   "outputs": [
    {
     "name": "stdout",
     "output_type": "stream",
     "text": [
      "Kenar uzunlugu 1 giriniz: 23\n",
      "Kenar uzunlugu 2 giriniz: 12\n",
      "Kenar uzunlugu 3 giriniz: 43\n",
      "ucgenin alani: 3147.999364675921\n"
     ]
    }
   ],
   "source": [
    "# 3 kenari girilen ucgenin alan hesabi\n",
    "# alan = √(s(s-a)(s-b)(s-c))     ||    s = yarim cevre a-b-c kenar\n",
    "import math\n",
    "\n",
    "kenar1 = float(input('Kenar uzunlugu 1 giriniz: '))\n",
    "kenar2 = float(input('Kenar uzunlugu 2 giriniz: '))\n",
    "kenar3 = float(input('Kenar uzunlugu 3 giriniz: '))\n",
    "\n",
    "s = kenar1+kenar2+kenar3 #yari_cevre\n",
    "\n",
    "alan = math.sqrt(s*(s-kenar1)*(s-kenar2)*(s-kenar3))\n",
    "\n",
    "print('ucgenin alani: {}'.format(alan))\n"
   ]
  },
  {
   "cell_type": "code",
   "execution_count": 178,
   "id": "64070e0f",
   "metadata": {},
   "outputs": [
    {
     "name": "stdout",
     "output_type": "stream",
     "text": [
      "metin giriniz: merhabalar sesli harfler\n",
      "metin: merhabalar sesli harfler\n",
      "sesli harf sayisi: 8\n"
     ]
    }
   ],
   "source": [
    "# metindeki sesli harf sayisi hesaplama\n",
    "metin = input('metin giriniz: ')\n",
    "metin = metin.lower()\n",
    "sesli_harf = 'euıoüiaöç' # sesli harflerimiz\n",
    "say = 0\n",
    "\n",
    "for i in metin: \n",
    "    for j in sesli_harf:\n",
    "        if i==j:\n",
    "            say+=1\n",
    "        else:\n",
    "            continue\n",
    "\n",
    "print('metin: {1}\\nsesli harf sayisi: {0}'.format(say, metin))"
   ]
  },
  {
   "cell_type": "code",
   "execution_count": 179,
   "id": "43d93255",
   "metadata": {
    "scrolled": true
   },
   "outputs": [
    {
     "name": "stdout",
     "output_type": "stream",
     "text": [
      "sayi giriniz: 3\n",
      "333\n",
      "sayi giriniz: 4\n",
      "4444\n",
      "sayi giriniz: 5\n",
      "55555\n"
     ]
    }
   ],
   "source": [
    "# her sayiyi kendisi kadar yanina yazdirma\n",
    "for i in range(3):\n",
    "    sayi = input('sayi giriniz: ')\n",
    "    yazdir = str(sayi)*int(sayi)\n",
    "    print(yazdir)"
   ]
  },
  {
   "cell_type": "markdown",
   "id": "9116aed7",
   "metadata": {},
   "source": [
    "#                                        Bilgi Notu\n",
    "#### isdigit() ifadesi sadece sayilari alir. (nokta,virgul vb) almaz\n",
    "#### isnumeric() ifadesi (nokta,virgul, roma rakami, cince rakam) alir"
   ]
  },
  {
   "cell_type": "code",
   "execution_count": 231,
   "id": "eed800d8",
   "metadata": {},
   "outputs": [
    {
     "name": "stdout",
     "output_type": "stream",
     "text": [
      "[2, 6, 1, 7, 5]\n"
     ]
    }
   ],
   "source": [
    "# tekrarsiz rastgele sayi uretme\n",
    "import random \n",
    "\n",
    "dizi = list()\n",
    "\n",
    "while len(dizi) < 5:\n",
    "    sayi = random.randint(1,8)\n",
    "    if sayi not in dizi: # dizi icinde yoksa\n",
    "        dizi.append(sayi)\n",
    "print(dizi)"
   ]
  },
  {
   "cell_type": "code",
   "execution_count": 252,
   "id": "6a5ce70a",
   "metadata": {},
   "outputs": [
    {
     "name": "stdout",
     "output_type": "stream",
     "text": [
      "[17]\n",
      "[2, 2, 7]\n",
      "[5]\n"
     ]
    }
   ],
   "source": [
    "# asal carpanlari bulma\n",
    "def asal_carpanlar(sayi):\n",
    "    carpanlar = []\n",
    "    i = 2\n",
    "    while sayi > 1:\n",
    "        if sayi % i == 0:\n",
    "            carpanlar.append(i)\n",
    "            sayi //= i\n",
    "        else:\n",
    "            i += 1\n",
    "    return carpanlar\n",
    "\n",
    "print(asal_carpanlar(17))\n",
    "print(asal_carpanlar(28))\n",
    "print(asal_carpanlar(5)"
   ]
  },
  {
   "cell_type": "code",
   "execution_count": 269,
   "id": "2856403d",
   "metadata": {},
   "outputs": [
    {
     "name": "stdout",
     "output_type": "stream",
     "text": [
      "Mors alfabesine donusecek cumleyi yazin: Merhaba mors alfabesi kodu calisiyor\n",
      "--..-......--....- -----.-.... .-.-....-..--......... -.-----....- -.-..-.-.........-.-----.-.\n"
     ]
    }
   ],
   "source": [
    "# metni mors alfabesine cevirme\n",
    "cumle = input('Mors alfabesine donusecek cumleyi yazin: ')\n",
    "cumle = cumle.upper()\n",
    "mors = ''\n",
    "\n",
    "mors_alfabesi = {\n",
    "    ' ':' ', 'A': '.-', 'B': '-...', 'C': '-.-.', 'D': '-..', 'E': '.', 'F': '..-.', \n",
    "    'G': '--.', 'H': '....', 'I': '..', 'J': '.---', 'K': '-.-', 'L': '.-..', \n",
    "    'M': '--', 'N': '-.', 'O': '---', 'P': '.--.', 'Q': '--.-', 'R': '.-.', \n",
    "    'S': '...', 'T': '-', 'U': '..-', 'V': '...-', 'W': '.--', 'X': '-..-', \n",
    "    'Y': '-.--', 'Z': '--..'\n",
    "}\n",
    "\n",
    "for harf in cumle:\n",
    "    mors = mors + mors_alfabesi[harf]\n",
    "\n",
    "print(mors)"
   ]
  }
 ],
 "metadata": {
  "kernelspec": {
   "display_name": "Python 3 (ipykernel)",
   "language": "python",
   "name": "python3"
  },
  "language_info": {
   "codemirror_mode": {
    "name": "ipython",
    "version": 3
   },
   "file_extension": ".py",
   "mimetype": "text/x-python",
   "name": "python",
   "nbconvert_exporter": "python",
   "pygments_lexer": "ipython3",
   "version": "3.9.13"
  }
 },
 "nbformat": 4,
 "nbformat_minor": 5
}
