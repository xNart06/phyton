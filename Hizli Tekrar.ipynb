{
 "cells": [
  {
   "cell_type": "markdown",
   "id": "a17ddde7",
   "metadata": {},
   "source": [
    "# Basit String Metodlari"
   ]
  },
  {
   "cell_type": "code",
   "execution_count": 5,
   "id": "a55a1b64",
   "metadata": {},
   "outputs": [
    {
     "name": "stdout",
     "output_type": "stream",
     "text": [
      "Hello World again\n"
     ]
    }
   ],
   "source": [
    "print('Hello World again')"
   ]
  },
  {
   "cell_type": "code",
   "execution_count": 6,
   "id": "31d183c6",
   "metadata": {
    "scrolled": false
   },
   "outputs": [
    {
     "name": "stdout",
     "output_type": "stream",
     "text": [
      "mesaj\n"
     ]
    }
   ],
   "source": [
    "#tek satirlik aciklama\n",
    "mesaj = 'mesaj'\n",
    "'''Cok \n",
    "satirli\n",
    "aciklama\n",
    "'''\n",
    "print(mesaj)\n",
    "\n"
   ]
  },
  {
   "cell_type": "markdown",
   "id": "cf9a1db4",
   "metadata": {},
   "source": [
    "## eval"
   ]
  },
  {
   "cell_type": "code",
   "execution_count": 7,
   "id": "a77842b6",
   "metadata": {},
   "outputs": [
    {
     "name": "stdout",
     "output_type": "stream",
     "text": [
      "5 3+2 5\n"
     ]
    }
   ],
   "source": [
    "a = 3+2\n",
    "b = ('3+2')\n",
    "c = eval('3+2')\n",
    "#eval fonksiyonu yazmak icin veri string olmali. Ornek variable c\n",
    "print(a,b,c)\n"
   ]
  },
  {
   "cell_type": "markdown",
   "id": "7366463a",
   "metadata": {},
   "source": [
    "# exec"
   ]
  },
  {
   "cell_type": "code",
   "execution_count": 8,
   "id": "8e0a729e",
   "metadata": {},
   "outputs": [
    {
     "name": "stdout",
     "output_type": "stream",
     "text": [
      "4\n",
      "0\n"
     ]
    }
   ],
   "source": [
    "x = 1\n",
    "y = input()\n",
    "z = 0\n",
    "\n",
    "exec(y) #girilen ifade kod olarak algilanabilmesini saglar\n",
    "print(z)"
   ]
  },
  {
   "cell_type": "markdown",
   "id": "1b2f9f8f",
   "metadata": {},
   "source": [
    "# len"
   ]
  },
  {
   "cell_type": "code",
   "execution_count": 9,
   "id": "9605d252",
   "metadata": {},
   "outputs": [
    {
     "name": "stdout",
     "output_type": "stream",
     "text": [
      "8\n"
     ]
    }
   ],
   "source": [
    "x = \"selamlar\" #bosluklari sayar\n",
    "print(len(x))"
   ]
  },
  {
   "cell_type": "markdown",
   "id": "a68ee043",
   "metadata": {},
   "source": [
    "# strip\n"
   ]
  },
  {
   "cell_type": "code",
   "execution_count": 10,
   "id": "c1e2e3f8",
   "metadata": {},
   "outputs": [
    {
     "name": "stdout",
     "output_type": "stream",
     "text": [
      "selam bu komut bastaki ve sondaki bosluklari silecek\n"
     ]
    }
   ],
   "source": [
    "x = '    selam bu komut bastaki ve sondaki bosluklari silecek     '\n",
    "print(x.strip())"
   ]
  },
  {
   "cell_type": "markdown",
   "id": "06d1e663",
   "metadata": {},
   "source": [
    "# lower"
   ]
  },
  {
   "cell_type": "code",
   "execution_count": 11,
   "id": "f04385a6",
   "metadata": {},
   "outputs": [
    {
     "name": "stdout",
     "output_type": "stream",
     "text": [
      "kucuk harf\n"
     ]
    }
   ],
   "source": [
    "x = 'KUCUK HARF'\n",
    "print(x.lower())"
   ]
  },
  {
   "cell_type": "markdown",
   "id": "cf32f03d",
   "metadata": {},
   "source": [
    "# upper"
   ]
  },
  {
   "cell_type": "code",
   "execution_count": 12,
   "id": "15675070",
   "metadata": {},
   "outputs": [
    {
     "name": "stdout",
     "output_type": "stream",
     "text": [
      "BUYUK HARF\n"
     ]
    }
   ],
   "source": [
    "x = 'buyuk harf'\n",
    "print(x.upper())"
   ]
  },
  {
   "cell_type": "markdown",
   "id": "b5438521",
   "metadata": {},
   "source": [
    "# replace\n"
   ]
  },
  {
   "cell_type": "code",
   "execution_count": 13,
   "id": "79640b18",
   "metadata": {},
   "outputs": [
    {
     "name": "stdout",
     "output_type": "stream",
     "text": [
      "yeni kelime ile yer degisti\n"
     ]
    }
   ],
   "source": [
    "x = 'yeni kelime ile yer degisecek'\n",
    "print(x.replace('degisecek','degisti'))"
   ]
  },
  {
   "cell_type": "markdown",
   "id": "81842c01",
   "metadata": {},
   "source": [
    "# split"
   ]
  },
  {
   "cell_type": "code",
   "execution_count": 14,
   "id": "ec1217be",
   "metadata": {},
   "outputs": [
    {
     "name": "stdout",
     "output_type": "stream",
     "text": [
      "['kelimleri', 'gruplara', 'ayiriyoruz']\n"
     ]
    }
   ],
   "source": [
    "x = 'kelimleri gruplara ayiriyoruz'\n",
    "print(x.split())"
   ]
  },
  {
   "cell_type": "markdown",
   "id": "a6811b86",
   "metadata": {},
   "source": [
    "# capitalize"
   ]
  },
  {
   "cell_type": "code",
   "execution_count": 15,
   "id": "2ea5cda5",
   "metadata": {},
   "outputs": [
    {
     "name": "stdout",
     "output_type": "stream",
     "text": [
      "Ilk harfi buyut\n"
     ]
    }
   ],
   "source": [
    "x = 'ilk harfi buyut'\n",
    "print(x.capitalize())"
   ]
  },
  {
   "cell_type": "markdown",
   "id": "b803dfb4",
   "metadata": {},
   "source": [
    "# casefold"
   ]
  },
  {
   "cell_type": "code",
   "execution_count": 16,
   "id": "89794540",
   "metadata": {},
   "outputs": [
    {
     "name": "stdout",
     "output_type": "stream",
     "text": [
      "lower ile ayni ise yariyor. \"pythonda\"\n"
     ]
    }
   ],
   "source": [
    "x = 'LOWER ILE AYNI ISE YARIYOR. \"PYTHONDA\"'\n",
    "print(x.casefold())"
   ]
  },
  {
   "cell_type": "markdown",
   "id": "dfe99d85",
   "metadata": {},
   "source": [
    "# center "
   ]
  },
  {
   "cell_type": "code",
   "execution_count": 17,
   "id": "92d7cc63",
   "metadata": {},
   "outputs": [
    {
     "name": "stdout",
     "output_type": "stream",
     "text": [
      "                                               ortala                                               \n"
     ]
    }
   ],
   "source": [
    "x = 'ortala'\n",
    "print(x.center(100))"
   ]
  },
  {
   "cell_type": "markdown",
   "id": "4be4b8d7",
   "metadata": {},
   "source": [
    "# count"
   ]
  },
  {
   "cell_type": "code",
   "execution_count": 18,
   "id": "f06c064e",
   "metadata": {
    "scrolled": true
   },
   "outputs": [
    {
     "name": "stdout",
     "output_type": "stream",
     "text": [
      "11\n",
      "4\n",
      "1\n"
     ]
    }
   ],
   "source": [
    "x = 'arabalar ankarada karda kaldi'\n",
    "print(x.count('a'))\n",
    "print(x.count('ar'))\n",
    "print(x.count('ankarada'))"
   ]
  },
  {
   "cell_type": "markdown",
   "id": "0a688527",
   "metadata": {},
   "source": [
    "# encode"
   ]
  },
  {
   "cell_type": "code",
   "execution_count": 19,
   "id": "14844da1",
   "metadata": {},
   "outputs": [
    {
     "name": "stdout",
     "output_type": "stream",
     "text": [
      "b'string ifadeyi utf-8 ile sifreliyor'\n"
     ]
    }
   ],
   "source": [
    "x = 'string ifadeyi utf-8 ile sifreliyor'\n",
    "print(x.encode())"
   ]
  },
  {
   "cell_type": "markdown",
   "id": "feb277a1",
   "metadata": {},
   "source": [
    "# endswith"
   ]
  },
  {
   "cell_type": "code",
   "execution_count": 20,
   "id": "4d7980eb",
   "metadata": {},
   "outputs": [
    {
     "name": "stdout",
     "output_type": "stream",
     "text": [
      "False\n",
      "False\n",
      "True\n"
     ]
    }
   ],
   "source": [
    "x = 'son harf ile uyusuyosa parametre true dondur'\n",
    "print(x.endswith('t'))\n",
    "print(x.endswith('R'))\n",
    "print(x.endswith('r'))"
   ]
  },
  {
   "cell_type": "markdown",
   "id": "044a776a",
   "metadata": {},
   "source": [
    "# expandtabs"
   ]
  },
  {
   "cell_type": "code",
   "execution_count": 21,
   "id": "ff3740f7",
   "metadata": {},
   "outputs": [
    {
     "name": "stdout",
     "output_type": "stream",
     "text": [
      "belirli tab uzunlugunda duzenle\n"
     ]
    }
   ],
   "source": [
    "x = 'belirli tab uzunlugunda duzenle'\n",
    "print(x.expandtabs(4))"
   ]
  },
  {
   "cell_type": "markdown",
   "id": "6887ff53",
   "metadata": {},
   "source": [
    "# find"
   ]
  },
  {
   "cell_type": "code",
   "execution_count": 22,
   "id": "e7682e58",
   "metadata": {},
   "outputs": [
    {
     "name": "stdout",
     "output_type": "stream",
     "text": [
      "-1 : false\n",
      "-1 : false\n",
      "0 : true\n",
      "0 : true\n"
     ]
    }
   ],
   "source": [
    "x = 'arama ifadesi'\n",
    "print(x.find('b'),': false')\n",
    "print(x.find('car'),': false')\n",
    "print(x.find('arama'),': true')\n",
    "print(x.find('a'),': true')"
   ]
  },
  {
   "cell_type": "markdown",
   "id": "3926fd5a",
   "metadata": {},
   "source": [
    "# index"
   ]
  },
  {
   "cell_type": "code",
   "execution_count": 23,
   "id": "caad947c",
   "metadata": {},
   "outputs": [
    {
     "name": "stdout",
     "output_type": "stream",
     "text": [
      "5 .indekten basliyor\n",
      "-1 : false\n",
      "9 .indekten basliyor\n"
     ]
    }
   ],
   "source": [
    "x = 'find ile ayni fakat dondurdugu deger farkli'\n",
    "print(x.find('ile'),'.indekten basliyor')\n",
    "print(x.find('car'),': false')\n",
    "print(x.find('a'),'.indekten basliyor')"
   ]
  },
  {
   "cell_type": "markdown",
   "id": "029dad01",
   "metadata": {},
   "source": [
    "# join"
   ]
  },
  {
   "cell_type": "code",
   "execution_count": 24,
   "id": "a9887729",
   "metadata": {},
   "outputs": [
    {
     "name": "stdout",
     "output_type": "stream",
     "text": [
      "ACB\n"
     ]
    }
   ],
   "source": [
    "x = ('A','B')\n",
    "y = 'C'\n",
    "print(y.join(x))"
   ]
  },
  {
   "cell_type": "markdown",
   "id": "8e1332a2",
   "metadata": {},
   "source": [
    "# ljust && rjust"
   ]
  },
  {
   "cell_type": "code",
   "execution_count": 25,
   "id": "195445de",
   "metadata": {},
   "outputs": [
    {
     "name": "stdout",
     "output_type": "stream",
     "text": [
      "sola hizali sekilde                                                                                 \n",
      "                                                                                 saga hizali sekilde\n"
     ]
    }
   ],
   "source": [
    "x = 'sola hizali sekilde'\n",
    "y = 'saga hizali sekilde'\n",
    "print(x.ljust(100))\n",
    "print(y.rjust(100))"
   ]
  },
  {
   "cell_type": "markdown",
   "id": "dec5ba07",
   "metadata": {},
   "source": [
    "# is controller commands"
   ]
  },
  {
   "cell_type": "code",
   "execution_count": 26,
   "id": "5f5ac06b",
   "metadata": {},
   "outputs": [
    {
     "name": "stdout",
     "output_type": "stream",
     "text": [
      "True\n"
     ]
    }
   ],
   "source": [
    "x = 'Tumdegerleralfanumericmi' #A-Z a-z 0-9\n",
    "print(x.isalnum())"
   ]
  },
  {
   "cell_type": "code",
   "execution_count": 27,
   "id": "6512dee4",
   "metadata": {},
   "outputs": [
    {
     "name": "stdout",
     "output_type": "stream",
     "text": [
      "True\n"
     ]
    }
   ],
   "source": [
    "x = 'Tumdegerleralphami' #A-Z a-z\n",
    "print(x.isalpha())"
   ]
  },
  {
   "cell_type": "code",
   "execution_count": 28,
   "id": "766e1d54",
   "metadata": {},
   "outputs": [
    {
     "name": "stdout",
     "output_type": "stream",
     "text": [
      "False\n",
      "True\n"
     ]
    }
   ],
   "source": [
    "x = 'Tum degerler numeric mi' #sayi\n",
    "y = '123'\n",
    "print(x.isnumeric())\n",
    "print(y.isnumeric())"
   ]
  },
  {
   "cell_type": "code",
   "execution_count": 29,
   "id": "b1ba7f82",
   "metadata": {},
   "outputs": [
    {
     "name": "stdout",
     "output_type": "stream",
     "text": [
      "False\n",
      "True\n",
      "False\n"
     ]
    }
   ],
   "source": [
    "x = 'Tum degerler decimal mi'#ondalik sayi mi\n",
    "y = '2'\n",
    "z = '0.2'\n",
    "print(x.isdecimal())\n",
    "print(y.isdecimal())\n",
    "print(z.isdecimal())"
   ]
  },
  {
   "cell_type": "code",
   "execution_count": 30,
   "id": "bdba96c8",
   "metadata": {},
   "outputs": [
    {
     "name": "stdout",
     "output_type": "stream",
     "text": [
      "False\n",
      "True\n",
      "True\n",
      "False\n"
     ]
    }
   ],
   "source": [
    "x = 'Tum haneler tek haneli \"(digit)\" rakam mi'\n",
    "y = '123'\n",
    "z = '7'\n",
    "t = '2,4'\n",
    "print(x.isdigit())\n",
    "print(y.isdigit())\n",
    "print(z.isdigit())\n",
    "print(t.isdigit())"
   ]
  },
  {
   "cell_type": "code",
   "execution_count": 31,
   "id": "1682a09d",
   "metadata": {},
   "outputs": [
    {
     "name": "stdout",
     "output_type": "stream",
     "text": [
      "True\n",
      "False\n",
      "True\n",
      "True\n"
     ]
    }
   ],
   "source": [
    "x = '_variable'\n",
    "y = '12uygun'\n",
    "z = 'DegiskenMi'\n",
    "t = 'a123'\n",
    "print(x.isidentifier())\n",
    "print(y.isidentifier())\n",
    "print(z.isidentifier())\n",
    "print(t.isidentifier())"
   ]
  },
  {
   "cell_type": "markdown",
   "id": "89bd15b6",
   "metadata": {},
   "source": [
    "# partition"
   ]
  },
  {
   "cell_type": "code",
   "execution_count": 32,
   "id": "bba967ce",
   "metadata": {},
   "outputs": [
    {
     "name": "stdout",
     "output_type": "stream",
     "text": [
      "('girilen ', 'parametre', 'ye gore parcaya ayirir')\n",
      "('girilen ', 'parametreye', ' gore parcaya ayirir')\n",
      "('girilen parametreye gore parcaya ', 'ayirir', '')\n"
     ]
    }
   ],
   "source": [
    "x ='girilen parametreye gore parcaya ayirir'\n",
    "print(x.partition('parametre'))\n",
    "print(x.partition('parametreye'))\n",
    "print(x.partition('ayirir'))"
   ]
  },
  {
   "cell_type": "markdown",
   "id": "db507b0a",
   "metadata": {},
   "source": [
    "# splitlines"
   ]
  },
  {
   "cell_type": "code",
   "execution_count": 33,
   "id": "da6f3c08",
   "metadata": {},
   "outputs": [
    {
     "name": "stdout",
     "output_type": "stream",
     "text": [
      "['satir sonlarindan boler']\n",
      "['satir', 'sonlarindan', 'boler']\n"
     ]
    }
   ],
   "source": [
    "x ='satir sonlarindan boler'\n",
    "y ='satir\\nsonlarindan\\nboler' #\\n satir sonu C++ gibi\n",
    "print(x.splitlines())\n",
    "print(y.splitlines())"
   ]
  },
  {
   "cell_type": "markdown",
   "id": "fdaba52b",
   "metadata": {},
   "source": [
    "# swapcase"
   ]
  },
  {
   "cell_type": "code",
   "execution_count": 34,
   "id": "7984cdd3",
   "metadata": {},
   "outputs": [
    {
     "name": "stdout",
     "output_type": "stream",
     "text": [
      "bUyUK hArFlEr kUcUK, kUCuKlER bUyUK oLAcAk\n"
     ]
    }
   ],
   "source": [
    "x = 'BuYuk HaRfLeR KuCuk, KucUkLer BuYuk OlaCaK'\n",
    "print(x.swapcase())"
   ]
  },
  {
   "cell_type": "markdown",
   "id": "4428c373",
   "metadata": {},
   "source": [
    "# startswith"
   ]
  },
  {
   "cell_type": "code",
   "execution_count": 35,
   "id": "1975c059",
   "metadata": {},
   "outputs": [
    {
     "name": "stdout",
     "output_type": "stream",
     "text": [
      "False\n",
      "False\n",
      "True\n",
      "True\n"
     ]
    }
   ],
   "source": [
    "x = 'Parametre degeri ile basliyorsa True dondurecek'\n",
    "print(x.startswith('c'))\n",
    "print(x.startswith('p'))\n",
    "print(x.startswith('P'))\n",
    "print(x.startswith('Parametre'))"
   ]
  },
  {
   "cell_type": "markdown",
   "id": "b4d8495a",
   "metadata": {},
   "source": [
    "# zfill"
   ]
  },
  {
   "cell_type": "code",
   "execution_count": 36,
   "id": "db4c8b83",
   "metadata": {},
   "outputs": [
    {
     "name": "stdout",
     "output_type": "stream",
     "text": [
      "parametre degeri kadar karakter olana kadar basa 0 koy\n",
      "0000000123\n",
      "0012.24124\n"
     ]
    }
   ],
   "source": [
    "x = 'parametre degeri kadar karakter olana kadar basa 0 koy' #sayisal ifadeler icin\n",
    "y = '123'\n",
    "z = '12.24124'\n",
    "print(x.zfill(10))\n",
    "print(y.zfill(10))\n",
    "print(z.zfill(10))"
   ]
  },
  {
   "cell_type": "markdown",
   "id": "c80a1aab",
   "metadata": {},
   "source": [
    "# rindex"
   ]
  },
  {
   "cell_type": "code",
   "execution_count": 37,
   "id": "aefdb8ea",
   "metadata": {},
   "outputs": [
    {
     "name": "stdout",
     "output_type": "stream",
     "text": [
      "60\n"
     ]
    }
   ],
   "source": [
    "x = 'metni sagdan arar soldan indislencek sekilde numara dondurur'\n",
    "print(x.rindex(''))"
   ]
  },
  {
   "cell_type": "markdown",
   "id": "68e3e6ac",
   "metadata": {},
   "source": [
    "# translate & maketrans"
   ]
  },
  {
   "cell_type": "code",
   "execution_count": 38,
   "id": "c769b82e",
   "metadata": {},
   "outputs": [
    {
     "name": "stdout",
     "output_type": "stream",
     "text": [
      "öğrenci çok çalışkan\n",
      "ogrenci cok calıskan\n"
     ]
    }
   ],
   "source": [
    "#maketrans karsilikli yer degistirir\n",
    "#translate parametre olarak verilen dile cevirir\n",
    "eski = 'öçğş'\n",
    "yeni = 'ocgs'\n",
    "ceviriTablosu = str.maketrans(eski,yeni)\n",
    "metin = 'öğrenci çok çalışkan'\n",
    "print(metin)\n",
    "print(metin.translate(ceviriTablosu))"
   ]
  },
  {
   "cell_type": "markdown",
   "id": "77740d79",
   "metadata": {},
   "source": [
    "# String Formatlari\n"
   ]
  },
  {
   "cell_type": "code",
   "execution_count": 39,
   "id": "15dfe929",
   "metadata": {},
   "outputs": [
    {
     "name": "stdout",
     "output_type": "stream",
     "text": [
      "formatlamada  veri bu sekilde yazilir. 2. veri de boyle girilebilir\n"
     ]
    }
   ],
   "source": [
    "#Format temel mantigi \n",
    "print('{} veri bu sekilde yazilir. {} veri de boyle girilebilir'.format('formatlamada ','2.'))"
   ]
  },
  {
   "cell_type": "code",
   "execution_count": 40,
   "id": "71a172e2",
   "metadata": {},
   "outputs": [
    {
     "name": "stdout",
     "output_type": "stream",
     "text": [
      "30 ekmek 150 tl fiyatina satiliyor\n",
      "30 ekmek 150 tl fiyatina satiliyor\n",
      "30 ekmek 150 tl fiyatina satiliyor\n"
     ]
    }
   ],
   "source": [
    "#str metin icine int ifade ekleme\n",
    "print('30 ekmek {} tl fiyatina satiliyor'.format(150))\n",
    "print('30 ekmek {} tl fiyatina satiliyor'.format('150'))\n",
    "#yukardaki ifadenin sorun cikarma ihtimali var (1. ifade)\n",
    "miktar = 150\n",
    "metin = '30 ekmek {} tl fiyatina satiliyor'\n",
    "print(metin.format(miktar))\n",
    "#dogru kullanimi"
   ]
  },
  {
   "cell_type": "code",
   "execution_count": 41,
   "id": "b8338ff9",
   "metadata": {},
   "outputs": [
    {
     "name": "stdout",
     "output_type": "stream",
     "text": [
      "pazarda 3 kg domates ve 2 kg biber aldim ve 56 lira odedim\n"
     ]
    }
   ],
   "source": [
    "#coklu format\n",
    "domatesFyt = 12\n",
    "biberFyt = 10\n",
    "domatesMik = 3\n",
    "biberMik = 2\n",
    "metin = 'pazarda {} kg domates ve {} kg biber aldim ve {} lira odedim'\n",
    "print(metin.format(domatesMik, biberMik,biberMik*biberFyt+domatesMik*domatesFyt))\n",
    "#tek format icinde ifadeler sira ile yazilir"
   ]
  },
  {
   "cell_type": "code",
   "execution_count": 42,
   "id": "82ef4993",
   "metadata": {},
   "outputs": [
    {
     "name": "stdout",
     "output_type": "stream",
     "text": [
      "pazarda 3 kg domates ve 2 kg biber aldim ve 2 lira odedim\n"
     ]
    }
   ],
   "source": [
    "#coklu format\n",
    "domatesFyt = 12\n",
    "biberFyt = 10\n",
    "domatesMik = 3\n",
    "biberMik = 2\n",
    "metin = 'pazarda {0} kg domates ve {1} kg biber aldim ve {1} lira odedim'\n",
    "print(metin.format(domatesMik, biberMik,biberMik*biberFyt+domatesMik*domatesFyt))\n",
    "#indes numarasi verilebilir karsimamasi icin"
   ]
  },
  {
   "cell_type": "markdown",
   "id": "70bddbeb",
   "metadata": {},
   "source": [
    "# if else "
   ]
  },
  {
   "cell_type": "code",
   "execution_count": 43,
   "id": "f2c4d824",
   "metadata": {},
   "outputs": [
    {
     "name": "stdout",
     "output_type": "stream",
     "text": [
      "4\n",
      "sayi 5 ten kucuk\n"
     ]
    }
   ],
   "source": [
    "x = input()\n",
    "x = int(x)\n",
    "if x<5:\n",
    "    print('sayi 5 ten kucuk')\n",
    "elif x>5 or x<10:\n",
    "    print('5-10 arasinda')\n",
    "else:\n",
    "    print('tanimsiz sayi')"
   ]
  },
  {
   "cell_type": "code",
   "execution_count": 44,
   "id": "4f4a92ce",
   "metadata": {},
   "outputs": [
    {
     "name": "stdout",
     "output_type": "stream",
     "text": [
      "4\n",
      "tanimsiz sayi\n"
     ]
    }
   ],
   "source": [
    "x = input()\n",
    "x = str(x)\n",
    "if x=='bes':\n",
    "    print('sayi 5' )\n",
    "elif x=='alti':\n",
    "    print('sayi 6')\n",
    "else:\n",
    "    print('tanimsiz sayi')"
   ]
  },
  {
   "cell_type": "markdown",
   "id": "2d3367a0",
   "metadata": {},
   "source": [
    "# Donguler"
   ]
  },
  {
   "cell_type": "code",
   "execution_count": 45,
   "id": "2f4cda1a",
   "metadata": {},
   "outputs": [
    {
     "name": "stdout",
     "output_type": "stream",
     "text": [
      "1\n",
      "2\n",
      "3\n",
      "4\n",
      "5\n",
      "6\n",
      "7\n",
      "8\n",
      "9\n",
      "10\n"
     ]
    }
   ],
   "source": [
    "for i in range(1,11):\n",
    "    print(i)"
   ]
  },
  {
   "cell_type": "code",
   "execution_count": 46,
   "id": "84c2f8bb",
   "metadata": {},
   "outputs": [
    {
     "name": "stdout",
     "output_type": "stream",
     "text": [
      "1.sayi\n",
      "2.sayi\n",
      "3.sayi\n",
      "4.sayi\n",
      "5.sayi\n"
     ]
    }
   ],
   "source": [
    "for i in range(1,6):\n",
    "    print(str(i)+'.sayi') #int + str izin yok"
   ]
  },
  {
   "cell_type": "code",
   "execution_count": 47,
   "id": "a553de66",
   "metadata": {},
   "outputs": [
    {
     "name": "stdout",
     "output_type": "stream",
     "text": [
      "0\n",
      "2\n",
      "4\n",
      "6\n",
      "8\n"
     ]
    }
   ],
   "source": [
    "for i in range(0,10,2):\n",
    "    print(i)"
   ]
  },
  {
   "cell_type": "code",
   "execution_count": 48,
   "id": "1e7b8454",
   "metadata": {},
   "outputs": [
    {
     "name": "stdout",
     "output_type": "stream",
     "text": [
      "1.sayi\n",
      "2.sayi\n",
      "3.sayi\n",
      "4.sayi\n",
      "5.sayi\n"
     ]
    }
   ],
   "source": [
    "i = 1\n",
    "while i<=5:\n",
    "    print(str(i)+'.sayi')\n",
    "    i = i+1"
   ]
  },
  {
   "cell_type": "code",
   "execution_count": 49,
   "id": "f0214218",
   "metadata": {},
   "outputs": [
    {
     "name": "stdout",
     "output_type": "stream",
     "text": [
      "0 1 2 3 4 5 6 7 8 9\n",
      "0\n",
      "1\n",
      "2\n",
      "3\n",
      "4\n",
      "5\n"
     ]
    }
   ],
   "source": [
    "print(*range(10))\n",
    "for i in range(100):\n",
    "    print(i)\n",
    "    if i==5:\n",
    "        break"
   ]
  },
  {
   "cell_type": "markdown",
   "id": "5ececfb6",
   "metadata": {},
   "source": [
    "# Diziler\n"
   ]
  },
  {
   "cell_type": "code",
   "execution_count": 50,
   "id": "88eb4a6a",
   "metadata": {},
   "outputs": [
    {
     "name": "stdout",
     "output_type": "stream",
     "text": [
      "[] [1, 2, 3] ['bir', 'iki', 'uc'] [1, 2, 3, 'elma', 'armut', 1234.2, 2, 'muz']\n"
     ]
    }
   ],
   "source": [
    "#bos array\n",
    "array = []\n",
    "array = list()\n",
    "#dolu array\n",
    "arrayStr = ['bir','iki','uc']\n",
    "arrayInt = [1,2,3]\n",
    "arrayMix = [1,2,3,'elma','armut',1234.2,2,'muz']\n",
    "print(array,arrayInt,arrayStr,arrayMix)"
   ]
  },
  {
   "cell_type": "code",
   "execution_count": 51,
   "id": "1347b56e",
   "metadata": {},
   "outputs": [
    {
     "name": "stdout",
     "output_type": "stream",
     "text": [
      "['P', 'y', 't', 'h', 'o', 'n']\n",
      "[['P', 'y', 't', 'h', 'o', 'n'], ['bir', 'iki', 'uc'], [1, 2, 3]]\n"
     ]
    }
   ],
   "source": [
    "#harf array\n",
    "metin = 'Python'\n",
    "array = list(metin)\n",
    "print(array)\n",
    "#array birlestirme\n",
    "arrayStr = ['bir','iki','uc']\n",
    "arrayInt = [1,2,3]\n",
    "arraySum = [array,arrayStr,arrayInt]\n",
    "print(arraySum)"
   ]
  },
  {
   "cell_type": "code",
   "execution_count": 52,
   "id": "5d30821c",
   "metadata": {},
   "outputs": [
    {
     "name": "stdout",
     "output_type": "stream",
     "text": [
      "c\n",
      "['a', 'b', 'c', 'd', 'e']\n",
      "['d', 'e', 'f']\n",
      "['c', 'd']\n",
      "f\n",
      "['a', 'b', 'c', 'd', 'e', 'f', 'a', 'b', 'c', 'd', 'e', 'f']\n",
      "['a', 'b', 'c', 'd', 'e', 'f', 'g']\n"
     ]
    }
   ],
   "source": [
    "#arry islemleri\n",
    "x = ['a','b','c','d','e','f']\n",
    "#     0   1   2   3   4   5\n",
    "print(x[2])\n",
    "print(x[:5])\n",
    "print(x[3:])\n",
    "print(x[2:4])\n",
    "print(x[len(x)-1])\n",
    "print(x + x)\n",
    "print(x + ['g'])"
   ]
  },
  {
   "cell_type": "code",
   "execution_count": 53,
   "id": "c5d32f7d",
   "metadata": {},
   "outputs": [
    {
     "name": "stdout",
     "output_type": "stream",
     "text": [
      "['PPPPP', 'yyyyy', 'ttttt', 'hhhhh', 'ooooo', 'nnnnn', '     ', 'PPPPP', 'rrrrr', 'ooooo', 'ggggg', 'rrrrr', 'aaaaa', 'mmmmm', 'lllll', 'aaaaa', 'mmmmm', 'aaaaa']\n"
     ]
    }
   ],
   "source": [
    "metin = 'Python Programlama'\n",
    "dizi = [i*5 for i in metin]\n",
    "print(dizi)"
   ]
  },
  {
   "cell_type": "code",
   "execution_count": 54,
   "id": "f17573f1",
   "metadata": {
    "scrolled": true
   },
   "outputs": [
    {
     "name": "stdout",
     "output_type": "stream",
     "text": [
      "['a', 'b', 4, 5]\n"
     ]
    }
   ],
   "source": [
    "#deger degistirme\n",
    "x = [2,3,4,5]\n",
    "x[:2] = ['a','b']\n",
    "print(x)"
   ]
  },
  {
   "cell_type": "markdown",
   "id": "f781a4ee",
   "metadata": {},
   "source": [
    "# Dizi Metodlari\n",
    "### Kisaca metin olarak ozetlicem uzatmaya gerek yok"
   ]
  },
  {
   "cell_type": "markdown",
   "id": "93b7cc04",
   "metadata": {},
   "source": [
    "####         append() = sona eleman ekle\n",
    "####         clear() = elemanlari sil\n",
    "####         copy() = dizinin kopyasini olustur\n",
    "####         count() = girilen parametreden kac tane varsa saydir\n",
    "####         extend() = parametreleri sona ekle\n",
    "####         index() = parametrenin index no ver\n",
    "####         pop() = indexteki ogeyi sil\n",
    "####         remove() = ogeyi kaldir\n",
    "####         reverse() = ters cevir\n",
    "####         sort() = k->b ya da a->z sirala\n",
    "####         insert() = girilen parametrelere gore indis numarasindaki degeri degistir"
   ]
  },
  {
   "cell_type": "markdown",
   "id": "0276e24e",
   "metadata": {},
   "source": [
    "# Tupplelar/Demetler"
   ]
  },
  {
   "cell_type": "markdown",
   "id": "696430ee",
   "metadata": {},
   "source": [
    "# Tupple ve Array farki "
   ]
  },
  {
   "cell_type": "markdown",
   "id": "7c29db41",
   "metadata": {},
   "source": [
    "###  ♦ tupple() kullanir. Array[] kullanir\n",
    "###  ♦ tupple degismez Array degisebilir\n",
    "###  ♦ tupple arraye gore daha hizli. Sebebi array icin fazla tupple icin az bellege ihtiyac vardir\n",
    "###  ♦ tupple da oge degistirilemez ya da siralama yapilamaz"
   ]
  },
  {
   "cell_type": "code",
   "execution_count": 55,
   "id": "70f77dfe",
   "metadata": {},
   "outputs": [
    {
     "name": "stdout",
     "output_type": "stream",
     "text": [
      "<class 'str'>\n",
      "<class 'tuple'>\n"
     ]
    }
   ],
   "source": [
    "#str ile karismamasi icin sonuna genellikle , (virgul) konulur. Tek eleman varsa parantezz kullanilmaz\n",
    "tupple1 = 'demet1'\n",
    "tupple2 = 'demet2',\n",
    "print(type(tupple1))\n",
    "print(type(tupple2))"
   ]
  },
  {
   "cell_type": "code",
   "execution_count": 56,
   "id": "5408196c",
   "metadata": {},
   "outputs": [
    {
     "name": "stdout",
     "output_type": "stream",
     "text": [
      "boeing\n",
      "('boeing', 'airbus', 'Lockheed Martin')\n"
     ]
    }
   ],
   "source": [
    "#elemanlarina erisim sekli array ile aynidir\n",
    "tupple = ('boeing','airbus','Lockheed Martin','cessna')\n",
    "print(tupple[0])\n",
    "print(tupple[:3])"
   ]
  },
  {
   "cell_type": "code",
   "execution_count": 57,
   "id": "71dbfc3b",
   "metadata": {
    "scrolled": true
   },
   "outputs": [
    {
     "name": "stdout",
     "output_type": "stream",
     "text": [
      "('ankara', 'istanbul', 'izmir', 'sakarya')\n",
      "('ankara', 'istanbul', 'izmir', 'sakarya')\n"
     ]
    }
   ],
   "source": [
    "#birden fazla veri tipini ayni anda kullanilmasina fayda saglar\n",
    "#degistirilemez degerleri vardir\n",
    "tupple1 = ('ankara','istanbul','izmir','sakarya')\n",
    "tupple2 = 'ankara','istanbul','izmir','sakarya' #parantezli ve parantezsiz yazilabilir\n",
    "print(tupple1)\n",
    "print(tupple2)"
   ]
  },
  {
   "cell_type": "code",
   "execution_count": 58,
   "id": "527598bc",
   "metadata": {},
   "outputs": [
    {
     "name": "stdout",
     "output_type": "stream",
     "text": [
      "1\n",
      "0\n"
     ]
    }
   ],
   "source": [
    "#pop() clear() append() gibi metotlar silme ve ekleme olmadigi icin calismaz count() ve index() calisir\n",
    "tupple = ('bmw','mercedes','audi')\n",
    "#print(tupple.pop()) calismaz\n",
    "print(tupple.count('bmw'))\n",
    "print(tupple.index('bmw'))"
   ]
  },
  {
   "cell_type": "markdown",
   "id": "2774e7a2",
   "metadata": {},
   "source": [
    "# Date Time Islemleri"
   ]
  },
  {
   "cell_type": "code",
   "execution_count": 59,
   "id": "9adccda7",
   "metadata": {},
   "outputs": [
    {
     "name": "stdout",
     "output_type": "stream",
     "text": [
      "2023-07-10 14:23:32.174306\n"
     ]
    }
   ],
   "source": [
    "#date = tarih / time = saat / datetime = tarih ve saat\n",
    "import datetime\n",
    "datetime = datetime.datetime.now()\n",
    "print(datetime)"
   ]
  },
  {
   "cell_type": "code",
   "execution_count": 60,
   "id": "b909cdb3",
   "metadata": {},
   "outputs": [
    {
     "name": "stdout",
     "output_type": "stream",
     "text": [
      "2021-04-21 00:00:00\n",
      "2021-04-21 12:01:00\n"
     ]
    }
   ],
   "source": [
    "import datetime\n",
    "zaman1 = datetime.datetime(2021,4,21)\n",
    "zaman2 = datetime.datetime(2021,4,21,12,1)\n",
    "print(zaman1)\n",
    "print(zaman2)"
   ]
  },
  {
   "cell_type": "code",
   "execution_count": 61,
   "id": "9dbe1d8f",
   "metadata": {},
   "outputs": [
    {
     "name": "stdout",
     "output_type": "stream",
     "text": [
      "20.02.2001\n",
      "Tuesday\n"
     ]
    }
   ],
   "source": [
    "import datetime\n",
    "zaman = datetime.datetime(2001,2,20)\n",
    "gosterim = zaman.strftime('%d.%m.%Y') #yil ay gun siralamasini degistirme\n",
    "print(gosterim)\n",
    "gunGoster = zaman.strftime('%A') #gunu goster\n",
    "print(gunGoster)\n",
    "#Yukarida oldugu bir cok unsur var bunu gostermek icin ama detaya gerek yok"
   ]
  },
  {
   "cell_type": "markdown",
   "id": "265dfeec",
   "metadata": {},
   "source": [
    "# DICTIONARIES\n"
   ]
  },
  {
   "cell_type": "code",
   "execution_count": 62,
   "id": "7ad766c5",
   "metadata": {},
   "outputs": [
    {
     "name": "stdout",
     "output_type": "stream",
     "text": [
      "{'Ali': 2936, 'Ayse': 2857} {'elma': 'apple', 'beyaz': 'white'}\n",
      "{'Ali': 2936, 'Ayse': 2857, 'Fatma': 1578}\n",
      "{'Ayse': 2857, 'Fatma': 1578}\n"
     ]
    },
    {
     "data": {
      "text/plain": [
       "False"
      ]
     },
     "execution_count": 62,
     "metadata": {},
     "output_type": "execute_result"
    }
   ],
   "source": [
    "#key ve value kullanılan yapılardır. Arraylare benzer fakat deger içeride alınır {} ile gosterilir\n",
    "numara = {'Ali':2936,'Ayse':2857}\n",
    "numara_2 = dict()\n",
    "numara_2[\"elma\"] = 'apple'\n",
    "numara_2['beyaz'] = 'white'\n",
    "print(numara, numara_2)\n",
    "numara ['Fatma'] = 1578 #ekleme\n",
    "print(numara)\n",
    "del numara['Ali'] #sılme\n",
    "print(numara)\n",
    "'Ali' in numara #true false deger dondurme\n",
    "#'Fatma' in numara"
   ]
  },
  {
   "cell_type": "code",
   "execution_count": 63,
   "id": "d8897010",
   "metadata": {},
   "outputs": [
    {
     "data": {
      "text/plain": [
       "{'mercedes': 'benz', 'Hyundai': 'Elantra', 'Ford': 'Focus'}"
      ]
     },
     "execution_count": 63,
     "metadata": {},
     "output_type": "execute_result"
    }
   ],
   "source": [
    "#dict virgulle ayrilmis ifadeleri key ve value degerlerini ayirir\n",
    "dict([('Ali',2936),('Ayse',2857)])\n",
    "dict(mercedes = 'benz', Hyundai = 'Elantra', Ford = 'Focus')"
   ]
  },
  {
   "cell_type": "code",
   "execution_count": 64,
   "id": "b8644cf4",
   "metadata": {},
   "outputs": [
    {
     "data": {
      "text/plain": [
       "{2: 4, 4: 16, 6: 36}"
      ]
     },
     "execution_count": 64,
     "metadata": {},
     "output_type": "execute_result"
    }
   ],
   "source": [
    "{x: x**2 for x in (2, 4, 6)}\n",
    "#parentez icindeki sayilari ile 2 sayisini carp degerleri dict seklinde yazdir"
   ]
  },
  {
   "cell_type": "code",
   "execution_count": 65,
   "id": "ad253085",
   "metadata": {},
   "outputs": [
    {
     "name": "stdout",
     "output_type": "stream",
     "text": [
      "dict_keys(['mercedes', 'Hyundai', 'Ford'])\n",
      "dict_values(['benz', 'Elantra', 'Focus'])\n",
      "benz, Elantra, Focus\n"
     ]
    }
   ],
   "source": [
    "x = dict(mercedes = 'benz', Hyundai = 'Elantra', Ford = 'Focus')\n",
    "print(x.keys())\n",
    "print(x.values())\n",
    "print(', '.join(x.values())) #aralara eleman ekleme"
   ]
  },
  {
   "cell_type": "code",
   "execution_count": 66,
   "id": "00714344",
   "metadata": {},
   "outputs": [
    {
     "name": "stdout",
     "output_type": "stream",
     "text": [
      "dict_items([('bir', 'one'), ('iki', 'two'), ('uc', 'three')])\n",
      "bir = one\n",
      "iki = two\n",
      "uc = three\n"
     ]
    }
   ],
   "source": [
    "sozluk = {'bir':'one','iki':'two','uc':'three'}\n",
    "print(sozluk.items())\n",
    "\n",
    "for key, value in sozluk.items(): #sozluk itemleri icinde key ve value degerleri ile dolan\n",
    "    print('{0} = {1}'.format(key, value)) #ilk degere key ikinci degere value ata"
   ]
  },
  {
   "cell_type": "code",
   "execution_count": 67,
   "id": "8596699d",
   "metadata": {},
   "outputs": [
    {
     "name": "stdout",
     "output_type": "stream",
     "text": [
      "one\n",
      "two Bu sayi mevcut\n",
      "None Bu sayi mevcut degil\n"
     ]
    }
   ],
   "source": [
    "sozluk = {'bir':'one','iki':'two','uc':'three'}\n",
    "print(sozluk.get('bir')) #keyi girilen nesnenin value degerini ekrana basar GET()\n",
    "\n",
    "#keyi girilen degerden istersek bu sekilde yazi da yazdirabiliriz\n",
    "print(sozluk.get('iki'), 'Bu sayi mevcut') \n",
    "print(sozluk.get('dort'), 'Bu sayi mevcut degil')"
   ]
  },
  {
   "cell_type": "code",
   "execution_count": 68,
   "id": "49945b91",
   "metadata": {},
   "outputs": [
    {
     "name": "stdout",
     "output_type": "stream",
     "text": [
      "None\n"
     ]
    }
   ],
   "source": [
    "sozluk = {'bir':'one','iki':'two','uc':'three'}\n",
    "#icerik temizleme\n",
    "sozluk_temiz = sozluk.clear()\n",
    "print(sozluk_temiz)"
   ]
  },
  {
   "cell_type": "code",
   "execution_count": 69,
   "id": "b9dc66dc",
   "metadata": {},
   "outputs": [
    {
     "name": "stdout",
     "output_type": "stream",
     "text": [
      "{'bir': 'one', 'uc': 'three'}\n",
      "{'bir': 'one', 'iki': 'two', 'uc': 'three'}\n",
      "{'bir': 'one', 'uc': 'three', 'bes': 'five'}\n"
     ]
    }
   ],
   "source": [
    "sozluk = {'bir':'one','iki':'two','uc':'three'}\n",
    "sozluk_2 = sozluk.copy() #sozluk sozluk2 degiskeni icine kopyalandi\n",
    "#silme\n",
    "sozluk.pop('iki') #sozluk icindeki iki degeri silindi\n",
    "print(sozluk) \n",
    "print(sozluk_2)\n",
    "#ekleme\n",
    "sozluk['bes'] = 'five'\n",
    "print(sozluk) "
   ]
  },
  {
   "cell_type": "code",
   "execution_count": 70,
   "id": "f15b1e3b",
   "metadata": {},
   "outputs": [
    {
     "name": "stdout",
     "output_type": "stream",
     "text": [
      "{'uc': 'Sayilar', 'dort': 'Sayilar', 'bir': 'Sayilar', 'iki': 'Sayilar'}\n"
     ]
    }
   ],
   "source": [
    "sayilar = {'bir','iki','uc','dort'}\n",
    "sozluk = dict.fromkeys(sayilar,'Sayilar') #tum keylerin degerine sayilar atandi\n",
    "print(sozluk)"
   ]
  },
  {
   "cell_type": "code",
   "execution_count": 71,
   "id": "eaedfc1e",
   "metadata": {},
   "outputs": [
    {
     "name": "stdout",
     "output_type": "stream",
     "text": [
      "('uc', 'three')\n"
     ]
    }
   ],
   "source": [
    "sozluk = {'bir':'one','iki':'two','uc':'three'}\n",
    "sozluk = sozluk.popitem() #son itemi gosteriyor\n",
    "print(sozluk)"
   ]
  },
  {
   "cell_type": "code",
   "execution_count": 72,
   "id": "0766a2d5",
   "metadata": {},
   "outputs": [
    {
     "name": "stdout",
     "output_type": "stream",
     "text": [
      "{'uc': 2, 'dort': 4, 'bir': 3, 'iki': 3}\n"
     ]
    }
   ],
   "source": [
    "kelimeler = {'bir','iki','uc','dort'}\n",
    "sozluk = {i: len(i) for i in kelimeler} #kelimelerin uzunlugunu getirdi\n",
    "print(sozluk)"
   ]
  },
  {
   "cell_type": "code",
   "execution_count": 73,
   "id": "2b681669",
   "metadata": {},
   "outputs": [
    {
     "name": "stdout",
     "output_type": "stream",
     "text": [
      "{'bir': 'one', 'iki': 'two', 'uc': 'three', 'dort': 'four'}\n"
     ]
    }
   ],
   "source": [
    "tr= ['bir','iki','uc','dort']\n",
    "ing = ['one','two','three','four']\n",
    "trans = {tr[i]: ing[i] for i in range(0,len(tr))} #alttaki de ayni isi yapiyor\n",
    "#trans = {tr[i]: ing[i] for i in range(0,4)}\n",
    "print(trans)"
   ]
  },
  {
   "cell_type": "code",
   "execution_count": 74,
   "id": "015c93d8",
   "metadata": {},
   "outputs": [
    {
     "data": {
      "text/plain": [
       "{'furk': 'furkan', 'hak': 'hakan', 'serk': 'serkan'}"
      ]
     },
     "execution_count": 74,
     "metadata": {},
     "output_type": "execute_result"
    }
   ],
   "source": [
    "{y: y+'an' for y in ('furk','hak','serk')}\n",
    "{y: y+\"an\" for y in ('furk','hak','serk')}"
   ]
  },
  {
   "cell_type": "markdown",
   "id": "327c73a1",
   "metadata": {},
   "source": [
    "# SETS"
   ]
  },
  {
   "cell_type": "code",
   "execution_count": 75,
   "id": "eb67770a",
   "metadata": {},
   "outputs": [
    {
     "name": "stdout",
     "output_type": "stream",
     "text": [
      "{'pear', 'apple', 'orange', 'banana'}\n"
     ]
    }
   ],
   "source": [
    "basket = {'apple', 'orange', 'apple', 'pear', 'orange', 'banana'}\n",
    "print(basket)\n",
    "#birden fazla olsa bile icerigindeki her ogeden 1 tane aliyor"
   ]
  },
  {
   "cell_type": "code",
   "execution_count": 76,
   "id": "9ba86d0d",
   "metadata": {},
   "outputs": [
    {
     "data": {
      "text/plain": [
       "True"
      ]
     },
     "execution_count": 76,
     "metadata": {},
     "output_type": "execute_result"
    }
   ],
   "source": [
    "'orange' in basket"
   ]
  },
  {
   "cell_type": "code",
   "execution_count": 77,
   "id": "d6b9fbca",
   "metadata": {},
   "outputs": [
    {
     "data": {
      "text/plain": [
       "False"
      ]
     },
     "execution_count": 77,
     "metadata": {},
     "output_type": "execute_result"
    }
   ],
   "source": [
    "'potato' in basket"
   ]
  },
  {
   "cell_type": "code",
   "execution_count": 78,
   "id": "dfd6ce88",
   "metadata": {},
   "outputs": [
    {
     "name": "stdout",
     "output_type": "stream",
     "text": [
      "{'o', 'm', 'k', 'r', 'l', 'b', 'e', 'a'}\n",
      "{'m', 'k', 'r', 'l', 'e', 'a'}\n",
      "{'o', 'b'}\n",
      "{'o', 'm', 'k', 'r', 'l', 'b', 'e', 'a'}\n"
     ]
    }
   ],
   "source": [
    "a = set('karambole')\n",
    "b = set('karamel')\n",
    "print(a) #sadece a\n",
    "print(b) #sadece b\n",
    "print(a-b) #a'nin b den farkli\n",
    "print(a|b) #a ve b ortak"
   ]
  },
  {
   "cell_type": "markdown",
   "id": "a42020c9",
   "metadata": {},
   "source": [
    "# TRY - EXCEPT - FINALLY"
   ]
  },
  {
   "cell_type": "markdown",
   "id": "47f53923",
   "metadata": {},
   "source": [
    "### Kodu calistir - hata verirse sunu yap - kodu bitir"
   ]
  },
  {
   "cell_type": "code",
   "execution_count": 79,
   "id": "ae511ad0",
   "metadata": {},
   "outputs": [
    {
     "name": "stdout",
     "output_type": "stream",
     "text": [
      "Sayi giriniz: 4\n",
      "2. sayiyi giriniz: 4\n",
      "8\n",
      "program sonlandi\n"
     ]
    }
   ],
   "source": [
    "try:\n",
    "    sayi1 = input('Sayi giriniz: ')\n",
    "    sayi2 = input('2. sayiyi giriniz: ')\n",
    "    sayi1 = int(sayi1)\n",
    "    sayi2 = int(sayi2)\n",
    "    toplam = sayi1 + sayi2\n",
    "    print(toplam)\n",
    "except ValueError as e:\n",
    "    print('Hata olustu. Hata aciklamasi: ' + str(e))\n",
    "except ZeroDivisionError as e:\n",
    "    print('0 sayisina bolme islemi yapilamaz')\n",
    "finally:\n",
    "    print('program sonlandi')"
   ]
  },
  {
   "cell_type": "markdown",
   "id": "15676582",
   "metadata": {},
   "source": [
    "#####  Her durumda (finally) ifadesi calisir"
   ]
  },
  {
   "cell_type": "markdown",
   "id": "a7b26891",
   "metadata": {},
   "source": [
    "# Random sayilar"
   ]
  },
  {
   "cell_type": "code",
   "execution_count": 80,
   "id": "d1744ed0",
   "metadata": {},
   "outputs": [
    {
     "name": "stdout",
     "output_type": "stream",
     "text": [
      "0.2951159458734659\n"
     ]
    }
   ],
   "source": [
    "import random # random kutuphanesini dahil ediyoruz\n",
    "sayi = random.random() # 0-1 arasi sayilari uretecek\n",
    "print(sayi)"
   ]
  },
  {
   "cell_type": "code",
   "execution_count": 81,
   "id": "c0573266",
   "metadata": {},
   "outputs": [
    {
     "name": "stdout",
     "output_type": "stream",
     "text": [
      "3.300381098520999\n"
     ]
    }
   ],
   "source": [
    "sayi = random.uniform(2.2,5) # 2.2 ile 5 arasinda ondalik sayi uretir\n",
    "print(sayi)"
   ]
  },
  {
   "cell_type": "code",
   "execution_count": 82,
   "id": "bc4d5e12",
   "metadata": {},
   "outputs": [
    {
     "name": "stdout",
     "output_type": "stream",
     "text": [
      "3\n"
     ]
    }
   ],
   "source": [
    "sayi = random.randint(1,21) # tam sayi uretir\n",
    "print(sayi)"
   ]
  },
  {
   "cell_type": "code",
   "execution_count": 83,
   "id": "9ac2171d",
   "metadata": {},
   "outputs": [
    {
     "name": "stdout",
     "output_type": "stream",
     "text": [
      "elma\n"
     ]
    }
   ],
   "source": [
    "dizi = ['armut','elma','muz','kiraz']\n",
    "secim = random.choice(dizi) # diziden rastgele eleman secme\n",
    "print(secim)"
   ]
  },
  {
   "cell_type": "code",
   "execution_count": 84,
   "id": "8604f219",
   "metadata": {},
   "outputs": [
    {
     "name": "stdout",
     "output_type": "stream",
     "text": [
      "k\n"
     ]
    }
   ],
   "source": [
    "metin = 'selamlar ben Furkan'\n",
    "secim = random.choice(metin) # metinden rastgele harf secme\n",
    "print(secim)"
   ]
  },
  {
   "cell_type": "code",
   "execution_count": 85,
   "id": "173fa61c",
   "metadata": {},
   "outputs": [
    {
     "name": "stdout",
     "output_type": "stream",
     "text": [
      "Ana dizi: \t\t[0, 1, 2, 3, 4, 5, 6, 7, 8, 9, 10, 11, 12, 13, 14, 15, 16, 17, 18, 19]\n",
      "Karismis dizi: \t\t[2, 9, 16, 15, 3, 13, 10, 17, 14, 8, 11, 19, 4, 7, 5, 0, 1, 6, 18, 12]\n",
      "2 kez karismis dizi: \t[4, 12, 6, 14, 17, 15, 3, 19, 9, 8, 1, 0, 2, 11, 7, 18, 16, 5, 10, 13]\n"
     ]
    }
   ],
   "source": [
    "dizi = list(range(20))\n",
    "print('Ana dizi: \\t\\t{}'.format(dizi))\n",
    "random.shuffle(dizi) # digerlerine kiyasla suffle mevcut diziyi karistirip yeni bir dizi verir\n",
    "print('Karismis dizi: \\t\\t{}'.format(dizi))\n",
    "random.shuffle(dizi)\n",
    "print('2 kez karismis dizi: \\t{}'.format(dizi))"
   ]
  },
  {
   "cell_type": "code",
   "execution_count": 86,
   "id": "8f7d5f1a",
   "metadata": {},
   "outputs": [
    {
     "name": "stdout",
     "output_type": "stream",
     "text": [
      "[2, 8, 12, 15, 5]\n"
     ]
    }
   ],
   "source": [
    "dizi = range(20)\n",
    "secim = random.sample(dizi,5) # dizi icerisinden rastgele 5 sayi sec\n",
    "print(secim)"
   ]
  },
  {
   "cell_type": "markdown",
   "id": "2201a27d",
   "metadata": {},
   "source": [
    "## RANDOM FONKSIYONLARI TEK PART"
   ]
  },
  {
   "cell_type": "markdown",
   "id": "19bd2acb",
   "metadata": {},
   "source": [
    "#### random.random() = 0-1 arasi rastgele sayi uret\n",
    "#### random.uniform() = belirtilen aralikta rastgele ondalik sayi uret\n",
    "#### random.randint() = belirtilen aralikta rastgele tam sayi uret\n",
    "#### random.choice() = dizi icinden rastgele 1 eleman sec\n",
    "#### random.shuffle() = diziyi karistir ve yeni dizi uret\n",
    "#### random.sample() = dizi icinden rastgele istenilen sayida eleman sec"
   ]
  },
  {
   "cell_type": "markdown",
   "id": "2e3a1ec8",
   "metadata": {},
   "source": [
    "# Fonksiyonlar"
   ]
  },
  {
   "cell_type": "code",
   "execution_count": 87,
   "id": "caae81ed",
   "metadata": {},
   "outputs": [
    {
     "name": "stdout",
     "output_type": "stream",
     "text": [
      "Selamm\n"
     ]
    }
   ],
   "source": [
    "def selam_ver(): # parametresiz fonksiyon\n",
    "    print('Selamm')\n",
    "\n",
    "selam_ver()"
   ]
  },
  {
   "cell_type": "code",
   "execution_count": 88,
   "id": "29c0aa2c",
   "metadata": {},
   "outputs": [
    {
     "name": "stdout",
     "output_type": "stream",
     "text": [
      "-----\n",
      "Firma:  THY\n",
      "Marka:  AIRBUS\n",
      "Model:  A 350\n",
      "-----\n",
      "-----\n",
      "Firma:  EMIRATES\n",
      "Marka:  BOEING\n",
      "Model:  737-800\n",
      "-----\n",
      "-----\n",
      "Firma:  THK\n",
      "Marka:  General Dynamics\n",
      "Model:  F16\n",
      "-----\n",
      "-----\n",
      "Firma:  THK\n",
      "Marka:  McDonnell Douglas\n",
      "Model:  F4\n",
      "-----\n"
     ]
    }
   ],
   "source": [
    "def kayit_olustur(firma, marka, model): # parametreli fonksiyon\n",
    "    print(5*'-') # ciktinin duzgun olmasi icin kullandik\n",
    "    \n",
    "    print('Firma: ', firma)\n",
    "    print('Marka: ', marka)\n",
    "    print('Model: ', model)\n",
    "    \n",
    "    print(5*'-')\n",
    "\n",
    "kayit_olustur('THY','AIRBUS', 'A 350')\n",
    "kayit_olustur('EMIRATES','BOEING', '737-800')\n",
    "kayit_olustur('THK','General Dynamics', 'F16')\n",
    "kayit_olustur('THK','McDonnell Douglas', 'F4')"
   ]
  },
  {
   "cell_type": "code",
   "execution_count": 89,
   "id": "0ad16e7f",
   "metadata": {},
   "outputs": [
    {
     "name": "stdout",
     "output_type": "stream",
     "text": [
      "4\n",
      "4 sayısının karesi 16 sayısıdır\n"
     ]
    }
   ],
   "source": [
    "# Kullanicinin girdigi sayinin karesini bulma\n",
    "def kare_bul(sayi):\n",
    "    çıktı = \"{} sayısının karesi {} sayısıdır\"\n",
    "    print(çıktı.format(sayi, sayi**2))\n",
    "    \n",
    "kare_bul(int(input()))"
   ]
  },
  {
   "cell_type": "markdown",
   "id": "2134745b",
   "metadata": {},
   "source": [
    "### Lambda kullanimi"
   ]
  },
  {
   "cell_type": "code",
   "execution_count": 90,
   "id": "9d20e0b1",
   "metadata": {},
   "outputs": [
    {
     "data": {
      "text/plain": [
       "18"
      ]
     },
     "execution_count": 90,
     "metadata": {},
     "output_type": "execute_result"
    }
   ],
   "source": [
    "# tek satirda fonksiyon tanimlama\n",
    "\n",
    "# Normal kullanim\n",
    "def topla(x,y):\n",
    "    return x+y\n",
    "\n",
    "#Lambda kullanimi\n",
    "topla2 = lambda x,y: x+y\n",
    "\n",
    "carp = lambda x: x*2\n",
    "\n",
    "topla(2,5)\n",
    "topla2(2,6)\n",
    "carp(9)"
   ]
  }
 ],
 "metadata": {
  "kernelspec": {
   "display_name": "Python 3 (ipykernel)",
   "language": "python",
   "name": "python3"
  },
  "language_info": {
   "codemirror_mode": {
    "name": "ipython",
    "version": 3
   },
   "file_extension": ".py",
   "mimetype": "text/x-python",
   "name": "python",
   "nbconvert_exporter": "python",
   "pygments_lexer": "ipython3",
   "version": "3.9.13"
  }
 },
 "nbformat": 4,
 "nbformat_minor": 5
}
